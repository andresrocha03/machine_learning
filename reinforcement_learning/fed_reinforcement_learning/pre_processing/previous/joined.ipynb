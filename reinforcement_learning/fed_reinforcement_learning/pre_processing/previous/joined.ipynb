{
 "cells": [
  {
   "cell_type": "markdown",
   "metadata": {},
   "source": [
    "# Importar bibliotecas básicas"
   ]
  },
  {
   "cell_type": "markdown",
   "metadata": {},
   "source": []
  },
  {
   "cell_type": "code",
   "execution_count": 1,
   "metadata": {},
   "outputs": [],
   "source": [
    "# !pip install scikit-learn\n",
    "# !pip install sklearn.preprocessing\n",
    "# !pip install cython\n",
    "# !pip install --upgrade pip\n",
    "# !pip install seaborn\n",
    "# !pip install plotly\n",
    "# !pip install --upgrade numpy"
   ]
  },
  {
   "cell_type": "code",
   "execution_count": 2,
   "metadata": {},
   "outputs": [],
   "source": [
    "import pandas as pd\n",
    "import numpy as np\n",
    "import seaborn as sns\n",
    "import matplotlib.pyplot as plt\n",
    "import plotly.express as px\n",
    "import sklearn"
   ]
  },
  {
   "cell_type": "markdown",
   "metadata": {},
   "source": [
    "# Importar dados"
   ]
  },
  {
   "cell_type": "code",
   "execution_count": 3,
   "metadata": {},
   "outputs": [],
   "source": [
    "paths = ['data/Friday-WorkingHours-Afternoon-DDos.pcap_ISCX.csv','data/Friday-WorkingHours-Afternoon-PortScan.pcap_ISCX.csv',\n",
    "            'data/Friday-WorkingHours-Morning.pcap_ISCX.csv','data/Monday-WorkingHours.pcap_ISCX.csv',\n",
    "            'data/Thursday-WorkingHours-Afternoon-Infilteration.pcap_ISCX.csv','data/Thursday-WorkingHours-Morning-WebAttacks.pcap_ISCX.csv',\n",
    "            'data/Tuesday-WorkingHours.pcap_ISCX.csv','data/Wednesday-workingHours.pcap_ISCX.csv']\n",
    "dfs = []\n",
    "for path in paths:\n",
    "    dfs.append(pd.read_csv(path, encoding='utf-8'))\n",
    "df = pd.concat(dfs)"
   ]
  },
  {
   "cell_type": "code",
   "execution_count": 4,
   "metadata": {},
   "outputs": [],
   "source": [
    "# df.sample()"
   ]
  },
  {
   "cell_type": "code",
   "execution_count": 5,
   "metadata": {},
   "outputs": [
    {
     "name": "stdout",
     "output_type": "stream",
     "text": [
      "<class 'pandas.core.frame.DataFrame'>\n",
      "Index: 2830743 entries, 0 to 692702\n",
      "Data columns (total 79 columns):\n",
      " #   Column                        Dtype  \n",
      "---  ------                        -----  \n",
      " 0    Destination Port             int64  \n",
      " 1    Flow Duration                int64  \n",
      " 2    Total Fwd Packets            int64  \n",
      " 3    Total Backward Packets       int64  \n",
      " 4   Total Length of Fwd Packets   int64  \n",
      " 5    Total Length of Bwd Packets  int64  \n",
      " 6    Fwd Packet Length Max        int64  \n",
      " 7    Fwd Packet Length Min        int64  \n",
      " 8    Fwd Packet Length Mean       float64\n",
      " 9    Fwd Packet Length Std        float64\n",
      " 10  Bwd Packet Length Max         int64  \n",
      " 11   Bwd Packet Length Min        int64  \n",
      " 12   Bwd Packet Length Mean       float64\n",
      " 13   Bwd Packet Length Std        float64\n",
      " 14  Flow Bytes/s                  float64\n",
      " 15   Flow Packets/s               float64\n",
      " 16   Flow IAT Mean                float64\n",
      " 17   Flow IAT Std                 float64\n",
      " 18   Flow IAT Max                 int64  \n",
      " 19   Flow IAT Min                 int64  \n",
      " 20  Fwd IAT Total                 int64  \n",
      " 21   Fwd IAT Mean                 float64\n",
      " 22   Fwd IAT Std                  float64\n",
      " 23   Fwd IAT Max                  int64  \n",
      " 24   Fwd IAT Min                  int64  \n",
      " 25  Bwd IAT Total                 int64  \n",
      " 26   Bwd IAT Mean                 float64\n",
      " 27   Bwd IAT Std                  float64\n",
      " 28   Bwd IAT Max                  int64  \n",
      " 29   Bwd IAT Min                  int64  \n",
      " 30  Fwd PSH Flags                 int64  \n",
      " 31   Bwd PSH Flags                int64  \n",
      " 32   Fwd URG Flags                int64  \n",
      " 33   Bwd URG Flags                int64  \n",
      " 34   Fwd Header Length            int64  \n",
      " 35   Bwd Header Length            int64  \n",
      " 36  Fwd Packets/s                 float64\n",
      " 37   Bwd Packets/s                float64\n",
      " 38   Min Packet Length            int64  \n",
      " 39   Max Packet Length            int64  \n",
      " 40   Packet Length Mean           float64\n",
      " 41   Packet Length Std            float64\n",
      " 42   Packet Length Variance       float64\n",
      " 43  FIN Flag Count                int64  \n",
      " 44   SYN Flag Count               int64  \n",
      " 45   RST Flag Count               int64  \n",
      " 46   PSH Flag Count               int64  \n",
      " 47   ACK Flag Count               int64  \n",
      " 48   URG Flag Count               int64  \n",
      " 49   CWE Flag Count               int64  \n",
      " 50   ECE Flag Count               int64  \n",
      " 51   Down/Up Ratio                int64  \n",
      " 52   Average Packet Size          float64\n",
      " 53   Avg Fwd Segment Size         float64\n",
      " 54   Avg Bwd Segment Size         float64\n",
      " 55   Fwd Header Length.1          int64  \n",
      " 56  Fwd Avg Bytes/Bulk            int64  \n",
      " 57   Fwd Avg Packets/Bulk         int64  \n",
      " 58   Fwd Avg Bulk Rate            int64  \n",
      " 59   Bwd Avg Bytes/Bulk           int64  \n",
      " 60   Bwd Avg Packets/Bulk         int64  \n",
      " 61  Bwd Avg Bulk Rate             int64  \n",
      " 62  Subflow Fwd Packets           int64  \n",
      " 63   Subflow Fwd Bytes            int64  \n",
      " 64   Subflow Bwd Packets          int64  \n",
      " 65   Subflow Bwd Bytes            int64  \n",
      " 66  Init_Win_bytes_forward        int64  \n",
      " 67   Init_Win_bytes_backward      int64  \n",
      " 68   act_data_pkt_fwd             int64  \n",
      " 69   min_seg_size_forward         int64  \n",
      " 70  Active Mean                   float64\n",
      " 71   Active Std                   float64\n",
      " 72   Active Max                   int64  \n",
      " 73   Active Min                   int64  \n",
      " 74  Idle Mean                     float64\n",
      " 75   Idle Std                     float64\n",
      " 76   Idle Max                     int64  \n",
      " 77   Idle Min                     int64  \n",
      " 78   Label                        object \n",
      "dtypes: float64(24), int64(54), object(1)\n",
      "memory usage: 1.7+ GB\n"
     ]
    }
   ],
   "source": [
    "df.info()"
   ]
  },
  {
   "cell_type": "markdown",
   "metadata": {},
   "source": [
    "# Tratamento de dados"
   ]
  },
  {
   "cell_type": "markdown",
   "metadata": {},
   "source": []
  },
  {
   "cell_type": "code",
   "execution_count": 6,
   "metadata": {},
   "outputs": [],
   "source": [
    "df = df.sample(2830743)\n",
    "df.reset_index(drop=True, inplace=True)\n"
   ]
  },
  {
   "cell_type": "code",
   "execution_count": 7,
   "metadata": {},
   "outputs": [
    {
     "data": {
      "text/plain": [
       " Label\n",
       "BENIGN                        2273097\n",
       "DoS Hulk                       231073\n",
       "PortScan                       158930\n",
       "DDoS                           128027\n",
       "DoS GoldenEye                   10293\n",
       "FTP-Patator                      7938\n",
       "SSH-Patator                      5897\n",
       "DoS slowloris                    5796\n",
       "DoS Slowhttptest                 5499\n",
       "Bot                              1966\n",
       "Web Attack � Brute Force         1507\n",
       "Web Attack � XSS                  652\n",
       "Infiltration                       36\n",
       "Web Attack � Sql Injection         21\n",
       "Heartbleed                         11\n",
       "Name: count, dtype: int64"
      ]
     },
     "execution_count": 7,
     "metadata": {},
     "output_type": "execute_result"
    }
   ],
   "source": [
    "df[' Label'].value_counts()"
   ]
  },
  {
   "cell_type": "code",
   "execution_count": 8,
   "metadata": {},
   "outputs": [],
   "source": [
    "joined_test = df.iloc[0:700000].copy()\n",
    "joined_val = df.iloc[700000:1400000].copy()\n",
    "separated_test = df.iloc[1400000:2100000].copy()\n",
    "separated_val = df.iloc[2100000:2800000].copy()\n",
    "\n",
    "joined_test.reset_index(drop=True, inplace=True)\n",
    "joined_val.reset_index(drop=True, inplace=True)\n",
    "separated_test.reset_index(drop=True, inplace=True)\n",
    "separated_val.reset_index(drop=True, inplace=True)"
   ]
  },
  {
   "cell_type": "code",
   "execution_count": 9,
   "metadata": {},
   "outputs": [],
   "source": [
    "joined_test.columns = [col.strip() for col in joined_test.columns]\n",
    "joined_val.columns = [col.strip() for col in joined_val.columns]\n",
    "separated_test.columns = [col.strip() for col in separated_test.columns]\n",
    "separated_val.columns = [col.strip() for col in separated_val.columns]"
   ]
  },
  {
   "cell_type": "code",
   "execution_count": 10,
   "metadata": {},
   "outputs": [
    {
     "data": {
      "text/plain": [
       "Label\n",
       "BENIGN                        562186\n",
       "DoS Hulk                       57219\n",
       "PortScan                       39325\n",
       "DDoS                           31587\n",
       "DoS GoldenEye                   2507\n",
       "FTP-Patator                     1892\n",
       "SSH-Patator                     1436\n",
       "DoS slowloris                   1436\n",
       "DoS Slowhttptest                1366\n",
       "Bot                              487\n",
       "Web Attack � Brute Force         378\n",
       "Web Attack � XSS                 162\n",
       "Infiltration                      11\n",
       "Web Attack � Sql Injection         6\n",
       "Heartbleed                         2\n",
       "Name: count, dtype: int64"
      ]
     },
     "execution_count": 10,
     "metadata": {},
     "output_type": "execute_result"
    }
   ],
   "source": [
    "#check what are the categories in the column ' Label' and how many instances are there for each category\n",
    "# joined_test['Label'].value_counts()\n",
    "# joined_val['Label'].value_counts()\n",
    "separated_test['Label'].value_counts()\n",
    "# separated_val['Label'].value_counts()"
   ]
  },
  {
   "cell_type": "code",
   "execution_count": 11,
   "metadata": {},
   "outputs": [],
   "source": [
    "# Replace inf and -inf with NaN\n",
    "joined_test.replace([np.inf, -np.inf], np.nan, inplace=True)\n",
    "joined_val.replace([np.inf, -np.inf], np.nan, inplace=True)\n",
    "separated_test.replace([np.inf, -np.inf], np.nan, inplace=True)\n",
    "separated_val.replace([np.inf, -np.inf], np.nan, inplace=True)"
   ]
  },
  {
   "cell_type": "code",
   "execution_count": 12,
   "metadata": {},
   "outputs": [],
   "source": [
    "joined_test.dropna(inplace=True)\n",
    "joined_val.dropna(inplace=True)\n",
    "separated_test.dropna(inplace=True)\n",
    "separated_val.dropna(inplace=True)"
   ]
  },
  {
   "cell_type": "markdown",
   "metadata": {},
   "source": [
    "# Divisão entre previsores e classe"
   ]
  },
  {
   "cell_type": "code",
   "execution_count": 13,
   "metadata": {},
   "outputs": [
    {
     "name": "stdout",
     "output_type": "stream",
     "text": [
      "Label\n",
      "BENIGN                        561544\n",
      "DoS Hulk                       56979\n",
      "PortScan                       39216\n",
      "DDoS                           31671\n",
      "DoS GoldenEye                   2566\n",
      "FTP-Patator                     2005\n",
      "SSH-Patator                     1481\n",
      "DoS slowloris                   1428\n",
      "DoS Slowhttptest                1349\n",
      "Bot                              463\n",
      "Web Attack � Brute Force         403\n",
      "Web Attack � XSS                 178\n",
      "Web Attack � Sql Injection         7\n",
      "Infiltration                       3\n",
      "Heartbleed                         2\n",
      "Name: count, dtype: int64 Label\n",
      "BENIGN                        561754\n",
      "DoS Hulk                       56977\n",
      "PortScan                       39108\n",
      "DDoS                           31666\n",
      "DoS GoldenEye                   2529\n",
      "FTP-Patator                     1954\n",
      "DoS slowloris                   1468\n",
      "SSH-Patator                     1443\n",
      "DoS Slowhttptest                1426\n",
      "Bot                              497\n",
      "Web Attack � Brute Force         336\n",
      "Web Attack � XSS                 158\n",
      "Infiltration                      10\n",
      "Heartbleed                         5\n",
      "Web Attack � Sql Injection         3\n",
      "Name: count, dtype: int64\n"
     ]
    }
   ],
   "source": [
    "print(joined_test['Label'].value_counts(), joined_val['Label'].value_counts())"
   ]
  },
  {
   "cell_type": "code",
   "execution_count": 14,
   "metadata": {},
   "outputs": [],
   "source": [
    "# change the joined df joined so that it contains only the labels \"benign\" and all others become a label \"attack\"\n",
    "for index, row in joined_test.iterrows():\n",
    "    if row['Label'] != 'BENIGN':\n",
    "        joined_test.at[index, 'Label'] = 'Attack'\n",
    "for index, row in joined_val.iterrows():\n",
    "    if row['Label'] != 'BENIGN':\n",
    "        joined_val.at[index, 'Label'] = 'Attack'\n",
    "\n"
   ]
  },
  {
   "cell_type": "code",
   "execution_count": 15,
   "metadata": {},
   "outputs": [
    {
     "name": "stdout",
     "output_type": "stream",
     "text": [
      "Label\n",
      "BENIGN    561544\n",
      "Attack    137751\n",
      "Name: count, dtype: int64 Label\n",
      "BENIGN    561754\n",
      "Attack    137580\n",
      "Name: count, dtype: int64\n"
     ]
    }
   ],
   "source": [
    "print(joined_test['Label'].value_counts(), joined_val['Label'].value_counts())"
   ]
  },
  {
   "cell_type": "code",
   "execution_count": 16,
   "metadata": {},
   "outputs": [
    {
     "name": "stdout",
     "output_type": "stream",
     "text": [
      "Label\n",
      "BENIGN                        561717\n",
      "DoS Hulk                       56972\n",
      "PortScan                       39299\n",
      "DDoS                           31587\n",
      "DoS GoldenEye                   2507\n",
      "FTP-Patator                     1892\n",
      "SSH-Patator                     1436\n",
      "DoS slowloris                   1436\n",
      "DoS Slowhttptest                1366\n",
      "Bot                              486\n",
      "Web Attack � Brute Force         378\n",
      "Web Attack � XSS                 162\n",
      "Infiltration                      11\n",
      "Web Attack � Sql Injection         6\n",
      "Heartbleed                         2\n",
      "Name: count, dtype: int64 Label\n",
      "BENIGN                        561646\n",
      "DoS Hulk                       56759\n",
      "PortScan                       39396\n",
      "DDoS                           31706\n",
      "DoS GoldenEye                   2572\n",
      "FTP-Patator                     1990\n",
      "SSH-Patator                     1476\n",
      "DoS slowloris                   1402\n",
      "DoS Slowhttptest                1297\n",
      "Bot                              489\n",
      "Web Attack � Brute Force         373\n",
      "Web Attack � XSS                 146\n",
      "Infiltration                      11\n",
      "Web Attack � Sql Injection         5\n",
      "Heartbleed                         2\n",
      "Name: count, dtype: int64\n"
     ]
    }
   ],
   "source": [
    "print(separated_test['Label'].value_counts(), separated_val['Label'].value_counts())"
   ]
  },
  {
   "cell_type": "code",
   "execution_count": 17,
   "metadata": {},
   "outputs": [],
   "source": [
    "from sklearn.preprocessing import LabelEncoder\n",
    "data = [joined_test, joined_val, separated_test, separated_val]\n",
    "atributo = 'Label'\n",
    "for d in data:\n",
    "    le = LabelEncoder()\n",
    "    d[atributo] = le.fit_transform(d[atributo].values)        "
   ]
  },
  {
   "cell_type": "code",
   "execution_count": 18,
   "metadata": {},
   "outputs": [
    {
     "name": "stdout",
     "output_type": "stream",
     "text": [
      "Label\n",
      "0     561717\n",
      "4      56972\n",
      "10     39299\n",
      "2      31587\n",
      "3       2507\n",
      "7       1892\n",
      "11      1436\n",
      "6       1436\n",
      "5       1366\n",
      "1        486\n",
      "12       378\n",
      "14       162\n",
      "9         11\n",
      "13         6\n",
      "8          2\n",
      "Name: count, dtype: int64 Label\n",
      "0     561646\n",
      "4      56759\n",
      "10     39396\n",
      "2      31706\n",
      "3       2572\n",
      "7       1990\n",
      "11      1476\n",
      "6       1402\n",
      "5       1297\n",
      "1        489\n",
      "12       373\n",
      "14       146\n",
      "9         11\n",
      "13         5\n",
      "8          2\n",
      "Name: count, dtype: int64\n"
     ]
    }
   ],
   "source": [
    "print(separated_test['Label'].value_counts(), separated_val['Label'].value_counts())"
   ]
  },
  {
   "cell_type": "code",
   "execution_count": 19,
   "metadata": {},
   "outputs": [
    {
     "name": "stdout",
     "output_type": "stream",
     "text": [
      "Label\n",
      "1    561544\n",
      "0    137751\n",
      "Name: count, dtype: int64 Label\n",
      "1    561754\n",
      "0    137580\n",
      "Name: count, dtype: int64\n"
     ]
    }
   ],
   "source": [
    "print(joined_test['Label'].value_counts(), joined_val['Label'].value_counts())"
   ]
  },
  {
   "cell_type": "code",
   "execution_count": 20,
   "metadata": {},
   "outputs": [],
   "source": [
    "joined_test_y = joined_test['Label']\n",
    "joined_test_x = joined_test.drop('Label', axis=1)\n",
    "joined_val_y = joined_val['Label']\n",
    "joined_val_x = joined_val.drop('Label', axis=1)\n",
    "separated_test_y = separated_test['Label']\n",
    "separated_test_x = separated_test.drop('Label', axis=1)\n",
    "separated_val_y = separated_val['Label']\n",
    "separated_val_x = separated_val.drop('Label', axis=1)"
   ]
  },
  {
   "cell_type": "markdown",
   "metadata": {},
   "source": [
    "# Normalização"
   ]
  },
  {
   "cell_type": "code",
   "execution_count": 21,
   "metadata": {},
   "outputs": [],
   "source": [
    "from sklearn.preprocessing import MinMaxScaler\n",
    "\n",
    "\n",
    "minmax_scaler        = MinMaxScaler()\n",
    "x_norm               = minmax_scaler.fit_transform(joined_test_x)\n",
    "joined_test_x        = pd.DataFrame(x_norm)\n",
    "x_norm               = minmax_scaler.fit_transform(joined_val_x)\n",
    "joined_val_x         = pd.DataFrame(x_norm)\n",
    "x_norm               = minmax_scaler.fit_transform(separated_test_x)\n",
    "separated_test_x     = pd.DataFrame(x_norm)\n",
    "x_norm               = minmax_scaler.fit_transform(separated_val_x)\n",
    "separated_val_x      = pd.DataFrame(x_norm)"
   ]
  },
  {
   "cell_type": "markdown",
   "metadata": {},
   "source": [
    "# PCA - redução de dimensões"
   ]
  },
  {
   "cell_type": "code",
   "execution_count": 22,
   "metadata": {
    "scrolled": true
   },
   "outputs": [
    {
     "data": {
      "text/plain": [
       "<matplotlib.legend.Legend at 0x736d1223f910>"
      ]
     },
     "execution_count": 22,
     "metadata": {},
     "output_type": "execute_result"
    },
    {
     "data": {
      "image/png": "[encoded data removed]",
      "text/plain": [
       "<Figure size 640x480 with 1 Axes>"
      ]
     },
     "metadata": {},
     "output_type": "display_data"
    }
   ],
   "source": [
    "from sklearn.decomposition import PCA\n",
    "import matplotlib.pyplot as plt\n",
    "import numpy as np\n",
    "\n",
    "pca = PCA().fit(separated_val_x)\n",
    "plt.plot(np.cumsum(pca.explained_variance_ratio_), label='Variancia explicada')\n",
    "plt.axhline(0.95,color='red',linestyle='--',label='95% percentual')\n",
    "plt.grid(True, linestyle='--')\n",
    "plt.legend()"
   ]
  },
  {
   "cell_type": "code",
   "execution_count": 23,
   "metadata": {},
   "outputs": [],
   "source": [
    "to_pca = [joined_test_x, joined_val_x, separated_test_x, separated_val_x]\n",
    "to_df = []\n",
    "for df in to_pca:\n",
    "    pca       = PCA(n_components=15)\n",
    "    dados_pca = pca.fit_transform(df)\n",
    "    to_df.append(pd.DataFrame(dados_pca))\n",
    "    # df.head()\n",
    "    # sns.scatterplot(x=dados_pca[:,0],y=dados_pca[:,1],hue=Y)\n",
    "to_df.append(joined_test_y)\n",
    "to_df.append(joined_val_y)\n",
    "to_df.append(separated_test_y)\n",
    "to_df.append(separated_val_y)"
   ]
  },
  {
   "cell_type": "markdown",
   "metadata": {},
   "source": [
    "# Ajustar formatos"
   ]
  },
  {
   "cell_type": "code",
   "execution_count": 24,
   "metadata": {},
   "outputs": [],
   "source": [
    "to_float32 = []\n",
    "for df in to_df:\n",
    "    to_float32.append(pd.DataFrame(df))\n"
   ]
  },
  {
   "cell_type": "code",
   "execution_count": 25,
   "metadata": {},
   "outputs": [],
   "source": [
    "# Convert only float64 columns to float32\n",
    "to_save = []\n",
    "for df in to_float32:\n",
    "    to_save.append(df.apply(lambda x: x.astype('float32') if x.dtype == 'float64' or x.dtype == 'int64' else x))\n"
   ]
  },
  {
   "cell_type": "markdown",
   "metadata": {},
   "source": [
    "# Salvar bases de dados"
   ]
  },
  {
   "cell_type": "code",
   "execution_count": 26,
   "metadata": {},
   "outputs": [],
   "source": [
    "## aqui não vale a pena dropar as linhas duplicadas, pois droparíamos as duplicadas no x e perderíamos a referência do y\n",
    "# data = data.drop_duplicates()"
   ]
  },
  {
   "cell_type": "code",
   "execution_count": 27,
   "metadata": {},
   "outputs": [],
   "source": [
    "name = ['joined_test_x', 'joined_val_x', 'separated_test_x', 'separated_val_x', 'joined_test_y', 'joined_val_y', 'separated_test_y', 'separated_val_y']\n",
    "for df,i in zip(to_save,range(len(to_save))):\n",
    "    df.to_csv(name[i], index=False)"
   ]
  },
  {
   "cell_type": "code",
   "execution_count": 28,
   "metadata": {},
   "outputs": [
    {
     "data": {
      "text/html": [
       "<div>\n",
       "<style scoped>\n",
       "    .dataframe tbody tr th:only-of-type {\n",
       "        vertical-align: middle;\n",
       "    }\n",
       "\n",
       "    .dataframe tbody tr th {\n",
       "        vertical-align: top;\n",
       "    }\n",
       "\n",
       "    .dataframe thead th {\n",
       "        text-align: right;\n",
       "    }\n",
       "</style>\n",
       "<table border=\"1\" class=\"dataframe\">\n",
       "  <thead>\n",
       "    <tr style=\"text-align: right;\">\n",
       "      <th></th>\n",
       "      <th>0</th>\n",
       "      <th>1</th>\n",
       "      <th>2</th>\n",
       "      <th>3</th>\n",
       "      <th>4</th>\n",
       "      <th>5</th>\n",
       "      <th>6</th>\n",
       "      <th>7</th>\n",
       "      <th>8</th>\n",
       "      <th>9</th>\n",
       "      <th>10</th>\n",
       "      <th>11</th>\n",
       "      <th>12</th>\n",
       "      <th>13</th>\n",
       "      <th>14</th>\n",
       "    </tr>\n",
       "  </thead>\n",
       "  <tbody>\n",
       "    <tr>\n",
       "      <th>0</th>\n",
       "      <td>0.091881</td>\n",
       "      <td>-0.849138</td>\n",
       "      <td>0.531572</td>\n",
       "      <td>0.212544</td>\n",
       "      <td>0.093026</td>\n",
       "      <td>-0.146420</td>\n",
       "      <td>-0.182517</td>\n",
       "      <td>0.316584</td>\n",
       "      <td>0.380575</td>\n",
       "      <td>0.385790</td>\n",
       "      <td>0.003258</td>\n",
       "      <td>-0.077493</td>\n",
       "      <td>0.012072</td>\n",
       "      <td>-0.013187</td>\n",
       "      <td>0.001282</td>\n",
       "    </tr>\n",
       "    <tr>\n",
       "      <th>1</th>\n",
       "      <td>-0.507511</td>\n",
       "      <td>0.680919</td>\n",
       "      <td>0.276441</td>\n",
       "      <td>0.008692</td>\n",
       "      <td>-0.040933</td>\n",
       "      <td>-0.024220</td>\n",
       "      <td>-0.252700</td>\n",
       "      <td>-0.501345</td>\n",
       "      <td>0.055043</td>\n",
       "      <td>0.175326</td>\n",
       "      <td>0.068918</td>\n",
       "      <td>-0.063582</td>\n",
       "      <td>0.008437</td>\n",
       "      <td>-0.004752</td>\n",
       "      <td>-0.133099</td>\n",
       "    </tr>\n",
       "    <tr>\n",
       "      <th>2</th>\n",
       "      <td>-0.272195</td>\n",
       "      <td>-0.165009</td>\n",
       "      <td>-0.445929</td>\n",
       "      <td>0.004244</td>\n",
       "      <td>-0.012879</td>\n",
       "      <td>0.032111</td>\n",
       "      <td>0.066749</td>\n",
       "      <td>0.005908</td>\n",
       "      <td>-0.044491</td>\n",
       "      <td>0.070965</td>\n",
       "      <td>-0.023524</td>\n",
       "      <td>-0.003529</td>\n",
       "      <td>-0.014284</td>\n",
       "      <td>-0.007183</td>\n",
       "      <td>-0.001867</td>\n",
       "    </tr>\n",
       "    <tr>\n",
       "      <th>3</th>\n",
       "      <td>-0.278055</td>\n",
       "      <td>-0.164874</td>\n",
       "      <td>-0.446445</td>\n",
       "      <td>-0.007696</td>\n",
       "      <td>-0.015261</td>\n",
       "      <td>0.027579</td>\n",
       "      <td>0.059936</td>\n",
       "      <td>0.007146</td>\n",
       "      <td>-0.044719</td>\n",
       "      <td>0.067309</td>\n",
       "      <td>-0.026148</td>\n",
       "      <td>-0.004938</td>\n",
       "      <td>-0.015600</td>\n",
       "      <td>-0.004263</td>\n",
       "      <td>-0.001319</td>\n",
       "    </tr>\n",
       "    <tr>\n",
       "      <th>4</th>\n",
       "      <td>0.120337</td>\n",
       "      <td>-0.693644</td>\n",
       "      <td>0.283444</td>\n",
       "      <td>0.180019</td>\n",
       "      <td>0.047829</td>\n",
       "      <td>0.027468</td>\n",
       "      <td>-0.096326</td>\n",
       "      <td>0.025876</td>\n",
       "      <td>-0.127451</td>\n",
       "      <td>-0.169511</td>\n",
       "      <td>0.005223</td>\n",
       "      <td>-0.036941</td>\n",
       "      <td>0.015475</td>\n",
       "      <td>-0.011967</td>\n",
       "      <td>-0.021413</td>\n",
       "    </tr>\n",
       "  </tbody>\n",
       "</table>\n",
       "</div>"
      ],
      "text/plain": [
       "         0         1         2         3         4         5         6   \\\n",
       "0  0.091881 -0.849138  0.531572  0.212544  0.093026 -0.146420 -0.182517   \n",
       "1 -0.507511  0.680919  0.276441  0.008692 -0.040933 -0.024220 -0.252700   \n",
       "2 -0.272195 -0.165009 -0.445929  0.004244 -0.012879  0.032111  0.066749   \n",
       "3 -0.278055 -0.164874 -0.446445 -0.007696 -0.015261  0.027579  0.059936   \n",
       "4  0.120337 -0.693644  0.283444  0.180019  0.047829  0.027468 -0.096326   \n",
       "\n",
       "         7         8         9         10        11        12        13  \\\n",
       "0  0.316584  0.380575  0.385790  0.003258 -0.077493  0.012072 -0.013187   \n",
       "1 -0.501345  0.055043  0.175326  0.068918 -0.063582  0.008437 -0.004752   \n",
       "2  0.005908 -0.044491  0.070965 -0.023524 -0.003529 -0.014284 -0.007183   \n",
       "3  0.007146 -0.044719  0.067309 -0.026148 -0.004938 -0.015600 -0.004263   \n",
       "4  0.025876 -0.127451 -0.169511  0.005223 -0.036941  0.015475 -0.011967   \n",
       "\n",
       "         14  \n",
       "0  0.001282  \n",
       "1 -0.133099  \n",
       "2 -0.001867  \n",
       "3 -0.001319  \n",
       "4 -0.021413  "
      ]
     },
     "execution_count": 28,
     "metadata": {},
     "output_type": "execute_result"
    }
   ],
   "source": [
    "to_save[0].head()"
   ]
  }
 ],
 "metadata": {
  "kernelspec": {
   "display_name": "Python 3 (ipykernel)",
   "language": "python",
   "name": "python3"
  },
  "language_info": {
   "codemirror_mode": {
    "name": "ipython",
    "version": 3
   },
   "file_extension": ".py",
   "mimetype": "text/x-python",
   "name": "python",
   "nbconvert_exporter": "python",
   "pygments_lexer": "ipython3",
   "version": "3.8.19"
  },
  "toc": {
   "base_numbering": 1,
   "nav_menu": {},
   "number_sections": false,
   "sideBar": false,
   "skip_h1_title": false,
   "title_cell": "Table of Contents",
   "title_sidebar": "Contents",
   "toc_cell": false,
   "toc_position": {},
   "toc_section_display": false,
   "toc_window_display": false
  }
 },
 "nbformat": 4,
 "nbformat_minor": 4
}
