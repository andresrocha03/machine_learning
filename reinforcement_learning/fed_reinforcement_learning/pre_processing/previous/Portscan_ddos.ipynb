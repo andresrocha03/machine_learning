{
 "cells": [
  {
   "cell_type": "markdown",
   "metadata": {},
   "source": [
    "# Importar bibliotecas básicas"
   ]
  },
  {
   "cell_type": "code",
   "execution_count": 107,
   "metadata": {},
   "outputs": [
    {
     "name": "stdout",
     "output_type": "stream",
     "text": [
      "Requirement already satisfied: scikit-learn in /home/andre/miniconda3/envs/stable-baseline/lib/python3.8/site-packages (1.3.2)\n",
      "Requirement already satisfied: numpy<2.0,>=1.17.3 in /home/andre/miniconda3/envs/stable-baseline/lib/python3.8/site-packages (from scikit-learn) (1.24.4)\n",
      "Requirement already satisfied: scipy>=1.5.0 in /home/andre/miniconda3/envs/stable-baseline/lib/python3.8/site-packages (from scikit-learn) (1.10.1)\n",
      "Requirement already satisfied: joblib>=1.1.1 in /home/andre/miniconda3/envs/stable-baseline/lib/python3.8/site-packages (from scikit-learn) (1.4.2)\n",
      "Requirement already satisfied: threadpoolctl>=2.0.0 in /home/andre/miniconda3/envs/stable-baseline/lib/python3.8/site-packages (from scikit-learn) (3.5.0)\n"
     ]
    }
   ],
   "source": [
    "!pip install scikit-learn"
   ]
  },
  {
   "cell_type": "code",
   "execution_count": 108,
   "metadata": {},
   "outputs": [
    {
     "name": "stdout",
     "output_type": "stream",
     "text": [
      "Requirement already satisfied: sklearn.preprocessing in /home/andre/miniconda3/envs/stable-baseline/lib/python3.8/site-packages (0.1.0)\n"
     ]
    }
   ],
   "source": [
    "!pip install sklearn.preprocessing"
   ]
  },
  {
   "cell_type": "code",
   "execution_count": 109,
   "metadata": {},
   "outputs": [
    {
     "name": "stdout",
     "output_type": "stream",
     "text": [
      "Requirement already satisfied: cython in /home/andre/miniconda3/envs/stable-baseline/lib/python3.8/site-packages (3.0.11)\n"
     ]
    }
   ],
   "source": [
    "!pip install cython"
   ]
  },
  {
   "cell_type": "code",
   "execution_count": 110,
   "metadata": {
    "scrolled": true
   },
   "outputs": [
    {
     "name": "stdout",
     "output_type": "stream",
     "text": [
      "Requirement already satisfied: pip in /home/andre/miniconda3/envs/stable-baseline/lib/python3.8/site-packages (24.2)\n"
     ]
    }
   ],
   "source": [
    "!pip install --upgrade pip"
   ]
  },
  {
   "cell_type": "code",
   "execution_count": 111,
   "metadata": {
    "scrolled": true
   },
   "outputs": [
    {
     "name": "stdout",
     "output_type": "stream",
     "text": [
      "Requirement already satisfied: seaborn in /home/andre/miniconda3/envs/stable-baseline/lib/python3.8/site-packages (0.13.2)\n",
      "Requirement already satisfied: numpy!=1.24.0,>=1.20 in /home/andre/miniconda3/envs/stable-baseline/lib/python3.8/site-packages (from seaborn) (1.24.4)\n",
      "Requirement already satisfied: pandas>=1.2 in /home/andre/miniconda3/envs/stable-baseline/lib/python3.8/site-packages (from seaborn) (2.0.3)\n",
      "Requirement already satisfied: matplotlib!=3.6.1,>=3.4 in /home/andre/miniconda3/envs/stable-baseline/lib/python3.8/site-packages (from seaborn) (3.7.5)\n",
      "Requirement already satisfied: contourpy>=1.0.1 in /home/andre/miniconda3/envs/stable-baseline/lib/python3.8/site-packages (from matplotlib!=3.6.1,>=3.4->seaborn) (1.1.1)\n",
      "Requirement already satisfied: cycler>=0.10 in /home/andre/miniconda3/envs/stable-baseline/lib/python3.8/site-packages (from matplotlib!=3.6.1,>=3.4->seaborn) (0.12.1)\n",
      "Requirement already satisfied: fonttools>=4.22.0 in /home/andre/miniconda3/envs/stable-baseline/lib/python3.8/site-packages (from matplotlib!=3.6.1,>=3.4->seaborn) (4.51.0)\n",
      "Requirement already satisfied: kiwisolver>=1.0.1 in /home/andre/miniconda3/envs/stable-baseline/lib/python3.8/site-packages (from matplotlib!=3.6.1,>=3.4->seaborn) (1.4.5)\n",
      "Requirement already satisfied: packaging>=20.0 in /home/andre/miniconda3/envs/stable-baseline/lib/python3.8/site-packages (from matplotlib!=3.6.1,>=3.4->seaborn) (24.0)\n",
      "Requirement already satisfied: pillow>=6.2.0 in /home/andre/miniconda3/envs/stable-baseline/lib/python3.8/site-packages (from matplotlib!=3.6.1,>=3.4->seaborn) (10.3.0)\n",
      "Requirement already satisfied: pyparsing>=2.3.1 in /home/andre/miniconda3/envs/stable-baseline/lib/python3.8/site-packages (from matplotlib!=3.6.1,>=3.4->seaborn) (3.1.2)\n",
      "Requirement already satisfied: python-dateutil>=2.7 in /home/andre/miniconda3/envs/stable-baseline/lib/python3.8/site-packages (from matplotlib!=3.6.1,>=3.4->seaborn) (2.9.0.post0)\n",
      "Requirement already satisfied: importlib-resources>=3.2.0 in /home/andre/miniconda3/envs/stable-baseline/lib/python3.8/site-packages (from matplotlib!=3.6.1,>=3.4->seaborn) (6.4.0)\n",
      "Requirement already satisfied: pytz>=2020.1 in /home/andre/miniconda3/envs/stable-baseline/lib/python3.8/site-packages (from pandas>=1.2->seaborn) (2024.1)\n",
      "Requirement already satisfied: tzdata>=2022.1 in /home/andre/miniconda3/envs/stable-baseline/lib/python3.8/site-packages (from pandas>=1.2->seaborn) (2024.1)\n",
      "Requirement already satisfied: zipp>=3.1.0 in /home/andre/miniconda3/envs/stable-baseline/lib/python3.8/site-packages (from importlib-resources>=3.2.0->matplotlib!=3.6.1,>=3.4->seaborn) (3.17.0)\n",
      "Requirement already satisfied: six>=1.5 in /home/andre/miniconda3/envs/stable-baseline/lib/python3.8/site-packages (from python-dateutil>=2.7->matplotlib!=3.6.1,>=3.4->seaborn) (1.16.0)\n"
     ]
    }
   ],
   "source": [
    "!pip install seaborn"
   ]
  },
  {
   "cell_type": "code",
   "execution_count": 112,
   "metadata": {
    "scrolled": true
   },
   "outputs": [
    {
     "name": "stdout",
     "output_type": "stream",
     "text": [
      "Requirement already satisfied: plotly in /home/andre/miniconda3/envs/stable-baseline/lib/python3.8/site-packages (5.23.0)\n",
      "Requirement already satisfied: tenacity>=6.2.0 in /home/andre/miniconda3/envs/stable-baseline/lib/python3.8/site-packages (from plotly) (9.0.0)\n",
      "Requirement already satisfied: packaging in /home/andre/miniconda3/envs/stable-baseline/lib/python3.8/site-packages (from plotly) (24.0)\n"
     ]
    }
   ],
   "source": [
    "!pip install plotly"
   ]
  },
  {
   "cell_type": "code",
   "execution_count": 113,
   "metadata": {},
   "outputs": [
    {
     "name": "stdout",
     "output_type": "stream",
     "text": [
      "Requirement already satisfied: numpy in /home/andre/miniconda3/envs/stable-baseline/lib/python3.8/site-packages (1.24.4)\n"
     ]
    }
   ],
   "source": [
    "!pip install --upgrade numpy"
   ]
  },
  {
   "cell_type": "code",
   "execution_count": 114,
   "metadata": {},
   "outputs": [],
   "source": [
    "import pandas as pd\n",
    "import numpy as np\n",
    "import seaborn as sns\n",
    "import matplotlib.pyplot as plt\n",
    "import plotly.express as px\n",
    "import sklearn"
   ]
  },
  {
   "cell_type": "markdown",
   "metadata": {},
   "source": [
    "# Importar dados"
   ]
  },
  {
   "cell_type": "code",
   "execution_count": 115,
   "metadata": {},
   "outputs": [],
   "source": [
    "raw_data = pd.read_csv('data/Friday-WorkingHours-Afternoon-PortScan.pcap_ISCX.csv')"
   ]
  },
  {
   "cell_type": "code",
   "execution_count": 116,
   "metadata": {},
   "outputs": [
    {
     "data": {
      "text/html": [
       "<div>\n",
       "<style scoped>\n",
       "    .dataframe tbody tr th:only-of-type {\n",
       "        vertical-align: middle;\n",
       "    }\n",
       "\n",
       "    .dataframe tbody tr th {\n",
       "        vertical-align: top;\n",
       "    }\n",
       "\n",
       "    .dataframe thead th {\n",
       "        text-align: right;\n",
       "    }\n",
       "</style>\n",
       "<table border=\"1\" class=\"dataframe\">\n",
       "  <thead>\n",
       "    <tr style=\"text-align: right;\">\n",
       "      <th></th>\n",
       "      <th>Destination Port</th>\n",
       "      <th>Flow Duration</th>\n",
       "      <th>Total Fwd Packets</th>\n",
       "      <th>Total Backward Packets</th>\n",
       "      <th>Total Length of Fwd Packets</th>\n",
       "      <th>Total Length of Bwd Packets</th>\n",
       "      <th>Fwd Packet Length Max</th>\n",
       "      <th>Fwd Packet Length Min</th>\n",
       "      <th>Fwd Packet Length Mean</th>\n",
       "      <th>Fwd Packet Length Std</th>\n",
       "      <th>...</th>\n",
       "      <th>min_seg_size_forward</th>\n",
       "      <th>Active Mean</th>\n",
       "      <th>Active Std</th>\n",
       "      <th>Active Max</th>\n",
       "      <th>Active Min</th>\n",
       "      <th>Idle Mean</th>\n",
       "      <th>Idle Std</th>\n",
       "      <th>Idle Max</th>\n",
       "      <th>Idle Min</th>\n",
       "      <th>Label</th>\n",
       "    </tr>\n",
       "  </thead>\n",
       "  <tbody>\n",
       "    <tr>\n",
       "      <th>77943</th>\n",
       "      <td>53</td>\n",
       "      <td>72472</td>\n",
       "      <td>4</td>\n",
       "      <td>2</td>\n",
       "      <td>164</td>\n",
       "      <td>150</td>\n",
       "      <td>41</td>\n",
       "      <td>41</td>\n",
       "      <td>41.0</td>\n",
       "      <td>0.0</td>\n",
       "      <td>...</td>\n",
       "      <td>20</td>\n",
       "      <td>0.0</td>\n",
       "      <td>0.0</td>\n",
       "      <td>0</td>\n",
       "      <td>0</td>\n",
       "      <td>0.0</td>\n",
       "      <td>0.0</td>\n",
       "      <td>0</td>\n",
       "      <td>0</td>\n",
       "      <td>BENIGN</td>\n",
       "    </tr>\n",
       "  </tbody>\n",
       "</table>\n",
       "<p>1 rows × 79 columns</p>\n",
       "</div>"
      ],
      "text/plain": [
       "        Destination Port   Flow Duration   Total Fwd Packets  \\\n",
       "77943                 53           72472                   4   \n",
       "\n",
       "        Total Backward Packets  Total Length of Fwd Packets  \\\n",
       "77943                        2                          164   \n",
       "\n",
       "        Total Length of Bwd Packets   Fwd Packet Length Max  \\\n",
       "77943                           150                      41   \n",
       "\n",
       "        Fwd Packet Length Min   Fwd Packet Length Mean  \\\n",
       "77943                      41                     41.0   \n",
       "\n",
       "        Fwd Packet Length Std  ...   min_seg_size_forward  Active Mean  \\\n",
       "77943                     0.0  ...                     20          0.0   \n",
       "\n",
       "        Active Std   Active Max   Active Min  Idle Mean   Idle Std   Idle Max  \\\n",
       "77943          0.0            0            0        0.0        0.0          0   \n",
       "\n",
       "        Idle Min   Label  \n",
       "77943          0  BENIGN  \n",
       "\n",
       "[1 rows x 79 columns]"
      ]
     },
     "execution_count": 116,
     "metadata": {},
     "output_type": "execute_result"
    }
   ],
   "source": [
    "raw_data.sample()"
   ]
  },
  {
   "cell_type": "markdown",
   "metadata": {},
   "source": [
    "# Tratamento de dados"
   ]
  },
  {
   "cell_type": "code",
   "execution_count": 117,
   "metadata": {},
   "outputs": [
    {
     "name": "stdout",
     "output_type": "stream",
     "text": [
      "<class 'pandas.core.frame.DataFrame'>\n",
      "RangeIndex: 286467 entries, 0 to 286466\n",
      "Data columns (total 79 columns):\n",
      " #   Column                        Non-Null Count   Dtype  \n",
      "---  ------                        --------------   -----  \n",
      " 0    Destination Port             286467 non-null  int64  \n",
      " 1    Flow Duration                286467 non-null  int64  \n",
      " 2    Total Fwd Packets            286467 non-null  int64  \n",
      " 3    Total Backward Packets       286467 non-null  int64  \n",
      " 4   Total Length of Fwd Packets   286467 non-null  int64  \n",
      " 5    Total Length of Bwd Packets  286467 non-null  int64  \n",
      " 6    Fwd Packet Length Max        286467 non-null  int64  \n",
      " 7    Fwd Packet Length Min        286467 non-null  int64  \n",
      " 8    Fwd Packet Length Mean       286467 non-null  float64\n",
      " 9    Fwd Packet Length Std        286467 non-null  float64\n",
      " 10  Bwd Packet Length Max         286467 non-null  int64  \n",
      " 11   Bwd Packet Length Min        286467 non-null  int64  \n",
      " 12   Bwd Packet Length Mean       286467 non-null  float64\n",
      " 13   Bwd Packet Length Std        286467 non-null  float64\n",
      " 14  Flow Bytes/s                  286452 non-null  float64\n",
      " 15   Flow Packets/s               286467 non-null  float64\n",
      " 16   Flow IAT Mean                286467 non-null  float64\n",
      " 17   Flow IAT Std                 286467 non-null  float64\n",
      " 18   Flow IAT Max                 286467 non-null  int64  \n",
      " 19   Flow IAT Min                 286467 non-null  int64  \n",
      " 20  Fwd IAT Total                 286467 non-null  int64  \n",
      " 21   Fwd IAT Mean                 286467 non-null  float64\n",
      " 22   Fwd IAT Std                  286467 non-null  float64\n",
      " 23   Fwd IAT Max                  286467 non-null  int64  \n",
      " 24   Fwd IAT Min                  286467 non-null  int64  \n",
      " 25  Bwd IAT Total                 286467 non-null  int64  \n",
      " 26   Bwd IAT Mean                 286467 non-null  float64\n",
      " 27   Bwd IAT Std                  286467 non-null  float64\n",
      " 28   Bwd IAT Max                  286467 non-null  int64  \n",
      " 29   Bwd IAT Min                  286467 non-null  int64  \n",
      " 30  Fwd PSH Flags                 286467 non-null  int64  \n",
      " 31   Bwd PSH Flags                286467 non-null  int64  \n",
      " 32   Fwd URG Flags                286467 non-null  int64  \n",
      " 33   Bwd URG Flags                286467 non-null  int64  \n",
      " 34   Fwd Header Length            286467 non-null  int64  \n",
      " 35   Bwd Header Length            286467 non-null  int64  \n",
      " 36  Fwd Packets/s                 286467 non-null  float64\n",
      " 37   Bwd Packets/s                286467 non-null  float64\n",
      " 38   Min Packet Length            286467 non-null  int64  \n",
      " 39   Max Packet Length            286467 non-null  int64  \n",
      " 40   Packet Length Mean           286467 non-null  float64\n",
      " 41   Packet Length Std            286467 non-null  float64\n",
      " 42   Packet Length Variance       286467 non-null  float64\n",
      " 43  FIN Flag Count                286467 non-null  int64  \n",
      " 44   SYN Flag Count               286467 non-null  int64  \n",
      " 45   RST Flag Count               286467 non-null  int64  \n",
      " 46   PSH Flag Count               286467 non-null  int64  \n",
      " 47   ACK Flag Count               286467 non-null  int64  \n",
      " 48   URG Flag Count               286467 non-null  int64  \n",
      " 49   CWE Flag Count               286467 non-null  int64  \n",
      " 50   ECE Flag Count               286467 non-null  int64  \n",
      " 51   Down/Up Ratio                286467 non-null  int64  \n",
      " 52   Average Packet Size          286467 non-null  float64\n",
      " 53   Avg Fwd Segment Size         286467 non-null  float64\n",
      " 54   Avg Bwd Segment Size         286467 non-null  float64\n",
      " 55   Fwd Header Length.1          286467 non-null  int64  \n",
      " 56  Fwd Avg Bytes/Bulk            286467 non-null  int64  \n",
      " 57   Fwd Avg Packets/Bulk         286467 non-null  int64  \n",
      " 58   Fwd Avg Bulk Rate            286467 non-null  int64  \n",
      " 59   Bwd Avg Bytes/Bulk           286467 non-null  int64  \n",
      " 60   Bwd Avg Packets/Bulk         286467 non-null  int64  \n",
      " 61  Bwd Avg Bulk Rate             286467 non-null  int64  \n",
      " 62  Subflow Fwd Packets           286467 non-null  int64  \n",
      " 63   Subflow Fwd Bytes            286467 non-null  int64  \n",
      " 64   Subflow Bwd Packets          286467 non-null  int64  \n",
      " 65   Subflow Bwd Bytes            286467 non-null  int64  \n",
      " 66  Init_Win_bytes_forward        286467 non-null  int64  \n",
      " 67   Init_Win_bytes_backward      286467 non-null  int64  \n",
      " 68   act_data_pkt_fwd             286467 non-null  int64  \n",
      " 69   min_seg_size_forward         286467 non-null  int64  \n",
      " 70  Active Mean                   286467 non-null  float64\n",
      " 71   Active Std                   286467 non-null  float64\n",
      " 72   Active Max                   286467 non-null  int64  \n",
      " 73   Active Min                   286467 non-null  int64  \n",
      " 74  Idle Mean                     286467 non-null  float64\n",
      " 75   Idle Std                     286467 non-null  float64\n",
      " 76   Idle Max                     286467 non-null  int64  \n",
      " 77   Idle Min                     286467 non-null  int64  \n",
      " 78   Label                        286467 non-null  object \n",
      "dtypes: float64(24), int64(54), object(1)\n",
      "memory usage: 172.7+ MB\n"
     ]
    }
   ],
   "source": [
    "raw_data.info()"
   ]
  },
  {
   "cell_type": "code",
   "execution_count": 118,
   "metadata": {},
   "outputs": [],
   "source": [
    "data = raw_data.iloc[0:100000].copy()"
   ]
  },
  {
   "cell_type": "code",
   "execution_count": 119,
   "metadata": {},
   "outputs": [
    {
     "name": "stdout",
     "output_type": "stream",
     "text": [
      "<class 'pandas.core.frame.DataFrame'>\n",
      "RangeIndex: 100000 entries, 0 to 99999\n",
      "Data columns (total 79 columns):\n",
      " #   Column                        Non-Null Count   Dtype  \n",
      "---  ------                        --------------   -----  \n",
      " 0    Destination Port             100000 non-null  int64  \n",
      " 1    Flow Duration                100000 non-null  int64  \n",
      " 2    Total Fwd Packets            100000 non-null  int64  \n",
      " 3    Total Backward Packets       100000 non-null  int64  \n",
      " 4   Total Length of Fwd Packets   100000 non-null  int64  \n",
      " 5    Total Length of Bwd Packets  100000 non-null  int64  \n",
      " 6    Fwd Packet Length Max        100000 non-null  int64  \n",
      " 7    Fwd Packet Length Min        100000 non-null  int64  \n",
      " 8    Fwd Packet Length Mean       100000 non-null  float64\n",
      " 9    Fwd Packet Length Std        100000 non-null  float64\n",
      " 10  Bwd Packet Length Max         100000 non-null  int64  \n",
      " 11   Bwd Packet Length Min        100000 non-null  int64  \n",
      " 12   Bwd Packet Length Mean       100000 non-null  float64\n",
      " 13   Bwd Packet Length Std        100000 non-null  float64\n",
      " 14  Flow Bytes/s                  99992 non-null   float64\n",
      " 15   Flow Packets/s               100000 non-null  float64\n",
      " 16   Flow IAT Mean                100000 non-null  float64\n",
      " 17   Flow IAT Std                 100000 non-null  float64\n",
      " 18   Flow IAT Max                 100000 non-null  int64  \n",
      " 19   Flow IAT Min                 100000 non-null  int64  \n",
      " 20  Fwd IAT Total                 100000 non-null  int64  \n",
      " 21   Fwd IAT Mean                 100000 non-null  float64\n",
      " 22   Fwd IAT Std                  100000 non-null  float64\n",
      " 23   Fwd IAT Max                  100000 non-null  int64  \n",
      " 24   Fwd IAT Min                  100000 non-null  int64  \n",
      " 25  Bwd IAT Total                 100000 non-null  int64  \n",
      " 26   Bwd IAT Mean                 100000 non-null  float64\n",
      " 27   Bwd IAT Std                  100000 non-null  float64\n",
      " 28   Bwd IAT Max                  100000 non-null  int64  \n",
      " 29   Bwd IAT Min                  100000 non-null  int64  \n",
      " 30  Fwd PSH Flags                 100000 non-null  int64  \n",
      " 31   Bwd PSH Flags                100000 non-null  int64  \n",
      " 32   Fwd URG Flags                100000 non-null  int64  \n",
      " 33   Bwd URG Flags                100000 non-null  int64  \n",
      " 34   Fwd Header Length            100000 non-null  int64  \n",
      " 35   Bwd Header Length            100000 non-null  int64  \n",
      " 36  Fwd Packets/s                 100000 non-null  float64\n",
      " 37   Bwd Packets/s                100000 non-null  float64\n",
      " 38   Min Packet Length            100000 non-null  int64  \n",
      " 39   Max Packet Length            100000 non-null  int64  \n",
      " 40   Packet Length Mean           100000 non-null  float64\n",
      " 41   Packet Length Std            100000 non-null  float64\n",
      " 42   Packet Length Variance       100000 non-null  float64\n",
      " 43  FIN Flag Count                100000 non-null  int64  \n",
      " 44   SYN Flag Count               100000 non-null  int64  \n",
      " 45   RST Flag Count               100000 non-null  int64  \n",
      " 46   PSH Flag Count               100000 non-null  int64  \n",
      " 47   ACK Flag Count               100000 non-null  int64  \n",
      " 48   URG Flag Count               100000 non-null  int64  \n",
      " 49   CWE Flag Count               100000 non-null  int64  \n",
      " 50   ECE Flag Count               100000 non-null  int64  \n",
      " 51   Down/Up Ratio                100000 non-null  int64  \n",
      " 52   Average Packet Size          100000 non-null  float64\n",
      " 53   Avg Fwd Segment Size         100000 non-null  float64\n",
      " 54   Avg Bwd Segment Size         100000 non-null  float64\n",
      " 55   Fwd Header Length.1          100000 non-null  int64  \n",
      " 56  Fwd Avg Bytes/Bulk            100000 non-null  int64  \n",
      " 57   Fwd Avg Packets/Bulk         100000 non-null  int64  \n",
      " 58   Fwd Avg Bulk Rate            100000 non-null  int64  \n",
      " 59   Bwd Avg Bytes/Bulk           100000 non-null  int64  \n",
      " 60   Bwd Avg Packets/Bulk         100000 non-null  int64  \n",
      " 61  Bwd Avg Bulk Rate             100000 non-null  int64  \n",
      " 62  Subflow Fwd Packets           100000 non-null  int64  \n",
      " 63   Subflow Fwd Bytes            100000 non-null  int64  \n",
      " 64   Subflow Bwd Packets          100000 non-null  int64  \n",
      " 65   Subflow Bwd Bytes            100000 non-null  int64  \n",
      " 66  Init_Win_bytes_forward        100000 non-null  int64  \n",
      " 67   Init_Win_bytes_backward      100000 non-null  int64  \n",
      " 68   act_data_pkt_fwd             100000 non-null  int64  \n",
      " 69   min_seg_size_forward         100000 non-null  int64  \n",
      " 70  Active Mean                   100000 non-null  float64\n",
      " 71   Active Std                   100000 non-null  float64\n",
      " 72   Active Max                   100000 non-null  int64  \n",
      " 73   Active Min                   100000 non-null  int64  \n",
      " 74  Idle Mean                     100000 non-null  float64\n",
      " 75   Idle Std                     100000 non-null  float64\n",
      " 76   Idle Max                     100000 non-null  int64  \n",
      " 77   Idle Min                     100000 non-null  int64  \n",
      " 78   Label                        100000 non-null  object \n",
      "dtypes: float64(24), int64(54), object(1)\n",
      "memory usage: 60.3+ MB\n"
     ]
    }
   ],
   "source": [
    "data.info()"
   ]
  },
  {
   "cell_type": "code",
   "execution_count": 120,
   "metadata": {},
   "outputs": [
    {
     "data": {
      "text/plain": [
       " Destination Port              0\n",
       " Flow Duration                 0\n",
       " Total Fwd Packets             0\n",
       " Total Backward Packets        0\n",
       "Total Length of Fwd Packets    0\n",
       "                              ..\n",
       "Idle Mean                      0\n",
       " Idle Std                      0\n",
       " Idle Max                      0\n",
       " Idle Min                      0\n",
       " Label                         0\n",
       "Length: 79, dtype: int64"
      ]
     },
     "execution_count": 120,
     "metadata": {},
     "output_type": "execute_result"
    }
   ],
   "source": [
    "data.isnull().sum()"
   ]
  },
  {
   "cell_type": "code",
   "execution_count": 121,
   "metadata": {},
   "outputs": [],
   "source": [
    "# Replace inf and -inf with NaN\n",
    "data.replace([np.inf, -np.inf], np.nan, inplace=True)"
   ]
  },
  {
   "cell_type": "code",
   "execution_count": 122,
   "metadata": {},
   "outputs": [],
   "source": [
    "data.dropna(inplace=True)"
   ]
  },
  {
   "cell_type": "code",
   "execution_count": 123,
   "metadata": {},
   "outputs": [
    {
     "data": {
      "text/html": [
       "<div>\n",
       "<style scoped>\n",
       "    .dataframe tbody tr th:only-of-type {\n",
       "        vertical-align: middle;\n",
       "    }\n",
       "\n",
       "    .dataframe tbody tr th {\n",
       "        vertical-align: top;\n",
       "    }\n",
       "\n",
       "    .dataframe thead th {\n",
       "        text-align: right;\n",
       "    }\n",
       "</style>\n",
       "<table border=\"1\" class=\"dataframe\">\n",
       "  <thead>\n",
       "    <tr style=\"text-align: right;\">\n",
       "      <th></th>\n",
       "      <th>Destination Port</th>\n",
       "      <th>Flow Duration</th>\n",
       "      <th>Total Fwd Packets</th>\n",
       "      <th>Total Backward Packets</th>\n",
       "      <th>Total Length of Fwd Packets</th>\n",
       "      <th>Total Length of Bwd Packets</th>\n",
       "      <th>Fwd Packet Length Max</th>\n",
       "      <th>Fwd Packet Length Min</th>\n",
       "      <th>Fwd Packet Length Mean</th>\n",
       "      <th>Fwd Packet Length Std</th>\n",
       "      <th>...</th>\n",
       "      <th>min_seg_size_forward</th>\n",
       "      <th>Active Mean</th>\n",
       "      <th>Active Std</th>\n",
       "      <th>Active Max</th>\n",
       "      <th>Active Min</th>\n",
       "      <th>Idle Mean</th>\n",
       "      <th>Idle Std</th>\n",
       "      <th>Idle Max</th>\n",
       "      <th>Idle Min</th>\n",
       "      <th>Label</th>\n",
       "    </tr>\n",
       "  </thead>\n",
       "  <tbody>\n",
       "    <tr>\n",
       "      <th>0</th>\n",
       "      <td>22</td>\n",
       "      <td>1266342</td>\n",
       "      <td>41</td>\n",
       "      <td>44</td>\n",
       "      <td>2664</td>\n",
       "      <td>6954</td>\n",
       "      <td>456</td>\n",
       "      <td>0</td>\n",
       "      <td>64.975610</td>\n",
       "      <td>109.864573</td>\n",
       "      <td>...</td>\n",
       "      <td>32</td>\n",
       "      <td>0.0</td>\n",
       "      <td>0.0</td>\n",
       "      <td>0</td>\n",
       "      <td>0</td>\n",
       "      <td>0.0</td>\n",
       "      <td>0.0</td>\n",
       "      <td>0</td>\n",
       "      <td>0</td>\n",
       "      <td>BENIGN</td>\n",
       "    </tr>\n",
       "    <tr>\n",
       "      <th>1</th>\n",
       "      <td>22</td>\n",
       "      <td>1319353</td>\n",
       "      <td>41</td>\n",
       "      <td>44</td>\n",
       "      <td>2664</td>\n",
       "      <td>6954</td>\n",
       "      <td>456</td>\n",
       "      <td>0</td>\n",
       "      <td>64.975610</td>\n",
       "      <td>109.864573</td>\n",
       "      <td>...</td>\n",
       "      <td>32</td>\n",
       "      <td>0.0</td>\n",
       "      <td>0.0</td>\n",
       "      <td>0</td>\n",
       "      <td>0</td>\n",
       "      <td>0.0</td>\n",
       "      <td>0.0</td>\n",
       "      <td>0</td>\n",
       "      <td>0</td>\n",
       "      <td>BENIGN</td>\n",
       "    </tr>\n",
       "    <tr>\n",
       "      <th>2</th>\n",
       "      <td>22</td>\n",
       "      <td>160</td>\n",
       "      <td>1</td>\n",
       "      <td>1</td>\n",
       "      <td>0</td>\n",
       "      <td>0</td>\n",
       "      <td>0</td>\n",
       "      <td>0</td>\n",
       "      <td>0.000000</td>\n",
       "      <td>0.000000</td>\n",
       "      <td>...</td>\n",
       "      <td>32</td>\n",
       "      <td>0.0</td>\n",
       "      <td>0.0</td>\n",
       "      <td>0</td>\n",
       "      <td>0</td>\n",
       "      <td>0.0</td>\n",
       "      <td>0.0</td>\n",
       "      <td>0</td>\n",
       "      <td>0</td>\n",
       "      <td>BENIGN</td>\n",
       "    </tr>\n",
       "    <tr>\n",
       "      <th>3</th>\n",
       "      <td>22</td>\n",
       "      <td>1303488</td>\n",
       "      <td>41</td>\n",
       "      <td>42</td>\n",
       "      <td>2728</td>\n",
       "      <td>6634</td>\n",
       "      <td>456</td>\n",
       "      <td>0</td>\n",
       "      <td>66.536585</td>\n",
       "      <td>110.129945</td>\n",
       "      <td>...</td>\n",
       "      <td>32</td>\n",
       "      <td>0.0</td>\n",
       "      <td>0.0</td>\n",
       "      <td>0</td>\n",
       "      <td>0</td>\n",
       "      <td>0.0</td>\n",
       "      <td>0.0</td>\n",
       "      <td>0</td>\n",
       "      <td>0</td>\n",
       "      <td>BENIGN</td>\n",
       "    </tr>\n",
       "    <tr>\n",
       "      <th>4</th>\n",
       "      <td>35396</td>\n",
       "      <td>77</td>\n",
       "      <td>1</td>\n",
       "      <td>2</td>\n",
       "      <td>0</td>\n",
       "      <td>0</td>\n",
       "      <td>0</td>\n",
       "      <td>0</td>\n",
       "      <td>0.000000</td>\n",
       "      <td>0.000000</td>\n",
       "      <td>...</td>\n",
       "      <td>32</td>\n",
       "      <td>0.0</td>\n",
       "      <td>0.0</td>\n",
       "      <td>0</td>\n",
       "      <td>0</td>\n",
       "      <td>0.0</td>\n",
       "      <td>0.0</td>\n",
       "      <td>0</td>\n",
       "      <td>0</td>\n",
       "      <td>BENIGN</td>\n",
       "    </tr>\n",
       "  </tbody>\n",
       "</table>\n",
       "<p>5 rows × 79 columns</p>\n",
       "</div>"
      ],
      "text/plain": [
       "    Destination Port   Flow Duration   Total Fwd Packets  \\\n",
       "0                 22         1266342                  41   \n",
       "1                 22         1319353                  41   \n",
       "2                 22             160                   1   \n",
       "3                 22         1303488                  41   \n",
       "4              35396              77                   1   \n",
       "\n",
       "    Total Backward Packets  Total Length of Fwd Packets  \\\n",
       "0                       44                         2664   \n",
       "1                       44                         2664   \n",
       "2                        1                            0   \n",
       "3                       42                         2728   \n",
       "4                        2                            0   \n",
       "\n",
       "    Total Length of Bwd Packets   Fwd Packet Length Max  \\\n",
       "0                          6954                     456   \n",
       "1                          6954                     456   \n",
       "2                             0                       0   \n",
       "3                          6634                     456   \n",
       "4                             0                       0   \n",
       "\n",
       "    Fwd Packet Length Min   Fwd Packet Length Mean   Fwd Packet Length Std  \\\n",
       "0                       0                64.975610              109.864573   \n",
       "1                       0                64.975610              109.864573   \n",
       "2                       0                 0.000000                0.000000   \n",
       "3                       0                66.536585              110.129945   \n",
       "4                       0                 0.000000                0.000000   \n",
       "\n",
       "   ...   min_seg_size_forward  Active Mean   Active Std   Active Max  \\\n",
       "0  ...                     32          0.0          0.0            0   \n",
       "1  ...                     32          0.0          0.0            0   \n",
       "2  ...                     32          0.0          0.0            0   \n",
       "3  ...                     32          0.0          0.0            0   \n",
       "4  ...                     32          0.0          0.0            0   \n",
       "\n",
       "    Active Min  Idle Mean   Idle Std   Idle Max   Idle Min   Label  \n",
       "0            0        0.0        0.0          0          0  BENIGN  \n",
       "1            0        0.0        0.0          0          0  BENIGN  \n",
       "2            0        0.0        0.0          0          0  BENIGN  \n",
       "3            0        0.0        0.0          0          0  BENIGN  \n",
       "4            0        0.0        0.0          0          0  BENIGN  \n",
       "\n",
       "[5 rows x 79 columns]"
      ]
     },
     "execution_count": 123,
     "metadata": {},
     "output_type": "execute_result"
    }
   ],
   "source": [
    "data.head()"
   ]
  },
  {
   "cell_type": "markdown",
   "metadata": {},
   "source": [
    "# Divisão entre previsores e classe"
   ]
  },
  {
   "cell_type": "code",
   "execution_count": 124,
   "metadata": {},
   "outputs": [],
   "source": [
    "from sklearn.preprocessing import LabelEncoder\n",
    "\n",
    "atributo = ' Label'\n",
    "le = LabelEncoder()\n",
    "data[atributo] = le.fit_transform(data[atributo].values)        "
   ]
  },
  {
   "cell_type": "code",
   "execution_count": 125,
   "metadata": {},
   "outputs": [
    {
     "name": "stdout",
     "output_type": "stream",
     "text": [
      "['BENIGN' 'PortScan']\n"
     ]
    }
   ],
   "source": [
    "print(le.classes_)"
   ]
  },
  {
   "cell_type": "code",
   "execution_count": 126,
   "metadata": {},
   "outputs": [],
   "source": [
    "df_train_y = data[' Label']\n",
    "df_train_x = data.drop(' Label', axis=1)"
   ]
  },
  {
   "cell_type": "markdown",
   "metadata": {},
   "source": [
    "# Normalização"
   ]
  },
  {
   "cell_type": "code",
   "execution_count": 127,
   "metadata": {},
   "outputs": [],
   "source": [
    "from sklearn.preprocessing import MinMaxScaler\n",
    "\n",
    "minmax_scaler = MinMaxScaler()\n",
    "x_norm        = minmax_scaler.fit_transform(df_train_x)"
   ]
  },
  {
   "cell_type": "markdown",
   "metadata": {},
   "source": [
    "# PCA - redução de dimensões"
   ]
  },
  {
   "cell_type": "code",
   "execution_count": 128,
   "metadata": {
    "scrolled": true
   },
   "outputs": [
    {
     "data": {
      "text/plain": [
       "<matplotlib.legend.Legend at 0x7f7ba0808730>"
      ]
     },
     "execution_count": 128,
     "metadata": {},
     "output_type": "execute_result"
    },
    {
     "data": {
      "image/png": "[encoded data removed]",
      "text/plain": [
       "<Figure size 640x480 with 1 Axes>"
      ]
     },
     "metadata": {},
     "output_type": "display_data"
    }
   ],
   "source": [
    "from sklearn.decomposition import PCA\n",
    "import matplotlib.pyplot as plt\n",
    "import numpy as np\n",
    "\n",
    "pca = PCA().fit(x_norm)\n",
    "plt.plot(np.cumsum(pca.explained_variance_ratio_), label='Variancia explicada')\n",
    "plt.axhline(0.95,color='red',linestyle='--',label='95% percentual')\n",
    "plt.grid(True, linestyle='--')\n",
    "plt.legend()"
   ]
  },
  {
   "cell_type": "code",
   "execution_count": 129,
   "metadata": {},
   "outputs": [
    {
     "data": {
      "text/html": [
       "<div>\n",
       "<style scoped>\n",
       "    .dataframe tbody tr th:only-of-type {\n",
       "        vertical-align: middle;\n",
       "    }\n",
       "\n",
       "    .dataframe tbody tr th {\n",
       "        vertical-align: top;\n",
       "    }\n",
       "\n",
       "    .dataframe thead th {\n",
       "        text-align: right;\n",
       "    }\n",
       "</style>\n",
       "<table border=\"1\" class=\"dataframe\">\n",
       "  <thead>\n",
       "    <tr style=\"text-align: right;\">\n",
       "      <th></th>\n",
       "      <th>0</th>\n",
       "      <th>1</th>\n",
       "      <th>2</th>\n",
       "      <th>3</th>\n",
       "      <th>4</th>\n",
       "      <th>5</th>\n",
       "      <th>6</th>\n",
       "      <th>7</th>\n",
       "      <th>8</th>\n",
       "      <th>9</th>\n",
       "    </tr>\n",
       "  </thead>\n",
       "  <tbody>\n",
       "    <tr>\n",
       "      <th>0</th>\n",
       "      <td>0.577824</td>\n",
       "      <td>-0.145870</td>\n",
       "      <td>-0.485201</td>\n",
       "      <td>0.081761</td>\n",
       "      <td>0.081086</td>\n",
       "      <td>-0.126047</td>\n",
       "      <td>0.129791</td>\n",
       "      <td>-0.025021</td>\n",
       "      <td>0.222664</td>\n",
       "      <td>-0.164003</td>\n",
       "    </tr>\n",
       "    <tr>\n",
       "      <th>1</th>\n",
       "      <td>0.578134</td>\n",
       "      <td>-0.145435</td>\n",
       "      <td>-0.484856</td>\n",
       "      <td>0.081676</td>\n",
       "      <td>0.081046</td>\n",
       "      <td>-0.126082</td>\n",
       "      <td>0.129479</td>\n",
       "      <td>-0.024894</td>\n",
       "      <td>0.222703</td>\n",
       "      <td>-0.163993</td>\n",
       "    </tr>\n",
       "    <tr>\n",
       "      <th>2</th>\n",
       "      <td>-0.868304</td>\n",
       "      <td>0.498525</td>\n",
       "      <td>-0.204386</td>\n",
       "      <td>-0.456535</td>\n",
       "      <td>0.138709</td>\n",
       "      <td>-0.147991</td>\n",
       "      <td>0.227302</td>\n",
       "      <td>0.444619</td>\n",
       "      <td>-0.132975</td>\n",
       "      <td>-0.177126</td>\n",
       "    </tr>\n",
       "    <tr>\n",
       "      <th>3</th>\n",
       "      <td>0.578347</td>\n",
       "      <td>-0.145351</td>\n",
       "      <td>-0.485016</td>\n",
       "      <td>0.081705</td>\n",
       "      <td>0.081675</td>\n",
       "      <td>-0.125819</td>\n",
       "      <td>0.129781</td>\n",
       "      <td>-0.025145</td>\n",
       "      <td>0.222509</td>\n",
       "      <td>-0.163989</td>\n",
       "    </tr>\n",
       "    <tr>\n",
       "      <th>4</th>\n",
       "      <td>-0.968527</td>\n",
       "      <td>0.628508</td>\n",
       "      <td>-0.339852</td>\n",
       "      <td>-0.491751</td>\n",
       "      <td>-0.019093</td>\n",
       "      <td>0.170647</td>\n",
       "      <td>0.059903</td>\n",
       "      <td>0.176369</td>\n",
       "      <td>-0.009354</td>\n",
       "      <td>-0.167902</td>\n",
       "    </tr>\n",
       "  </tbody>\n",
       "</table>\n",
       "</div>"
      ],
      "text/plain": [
       "          0         1         2         3         4         5         6  \\\n",
       "0  0.577824 -0.145870 -0.485201  0.081761  0.081086 -0.126047  0.129791   \n",
       "1  0.578134 -0.145435 -0.484856  0.081676  0.081046 -0.126082  0.129479   \n",
       "2 -0.868304  0.498525 -0.204386 -0.456535  0.138709 -0.147991  0.227302   \n",
       "3  0.578347 -0.145351 -0.485016  0.081705  0.081675 -0.125819  0.129781   \n",
       "4 -0.968527  0.628508 -0.339852 -0.491751 -0.019093  0.170647  0.059903   \n",
       "\n",
       "          7         8         9  \n",
       "0 -0.025021  0.222664 -0.164003  \n",
       "1 -0.024894  0.222703 -0.163993  \n",
       "2  0.444619 -0.132975 -0.177126  \n",
       "3 -0.025145  0.222509 -0.163989  \n",
       "4  0.176369 -0.009354 -0.167902  "
      ]
     },
     "execution_count": 129,
     "metadata": {},
     "output_type": "execute_result"
    }
   ],
   "source": [
    "pca       = PCA(n_components=10)\n",
    "dados_pca = pca.fit_transform(x_norm)\n",
    "df_train_x = pd.DataFrame(dados_pca)\n",
    "df_train_x.head()\n",
    "# sns.scatterplot(x=dados_pca[:,0],y=dados_pca[:,1],hue=Y)"
   ]
  },
  {
   "cell_type": "markdown",
   "metadata": {},
   "source": [
    "# Salvar bases de dados"
   ]
  },
  {
   "cell_type": "code",
   "execution_count": 121,
   "metadata": {},
   "outputs": [],
   "source": [
    "# data = data.drop_duplicates()"
   ]
  },
  {
   "cell_type": "code",
   "execution_count": 132,
   "metadata": {},
   "outputs": [],
   "source": [
    "df_train_y = pd.DataFrame(df_train_y)\n",
    "df_train_x = pd.DataFrame(df_train_x)"
   ]
  },
  {
   "cell_type": "code",
   "execution_count": 133,
   "metadata": {},
   "outputs": [],
   "source": [
    "# Convert only float64 columns to float32\n",
    "df_train_x = df_train_x.apply(lambda x: x.astype('float32') if x.dtype == 'float64' or x.dtype == 'int64' else x)\n",
    "df_train_y = df_train_y.apply(lambda x: x.astype('float32') if x.dtype == 'float64' or x.dtype == 'int64' else x)\n",
    "\n"
   ]
  },
  {
   "cell_type": "code",
   "execution_count": 134,
   "metadata": {},
   "outputs": [],
   "source": [
    "df_train_x.to_csv('pstrain_x', index=False)\n",
    "df_train_y.to_csv('pstrain_y', index=False)\n"
   ]
  }
 ],
 "metadata": {
  "kernelspec": {
   "display_name": "Python 3 (ipykernel)",
   "language": "python",
   "name": "python3"
  },
  "language_info": {
   "codemirror_mode": {
    "name": "ipython",
    "version": 3
   },
   "file_extension": ".py",
   "mimetype": "text/x-python",
   "name": "python",
   "nbconvert_exporter": "python",
   "pygments_lexer": "ipython3",
   "version": "3.8.19"
  },
  "toc": {
   "base_numbering": 1,
   "nav_menu": {},
   "number_sections": false,
   "sideBar": false,
   "skip_h1_title": false,
   "title_cell": "Table of Contents",
   "title_sidebar": "Contents",
   "toc_cell": false,
   "toc_position": {},
   "toc_section_display": false,
   "toc_window_display": false
  }
 },
 "nbformat": 4,
 "nbformat_minor": 4
}
