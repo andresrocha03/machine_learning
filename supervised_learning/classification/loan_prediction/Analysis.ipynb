{
 "cells": [
  {
   "cell_type": "markdown",
   "metadata": {},
   "source": [
    "# Importar arquivos"
   ]
  },
  {
   "cell_type": "code",
   "execution_count": 3,
   "metadata": {},
   "outputs": [],
   "source": [
    "import pickle\n",
    "with open('data/processed/loan_status.pkl','rb') as f:\n",
    "    x_treino,y_treino,x_teste,y_teste = pickle.load(f)"
   ]
  },
  {
   "cell_type": "markdown",
   "metadata": {},
   "source": [
    "# Analise"
   ]
  },
  {
   "cell_type": "markdown",
   "metadata": {},
   "source": [
    "## Instanciar classificadores"
   ]
  },
  {
   "cell_type": "code",
   "execution_count": 4,
   "metadata": {},
   "outputs": [],
   "source": [
    "from sklearn.naive_bayes import GaussianNB\n",
    "from sklearn.neighbors import KNeighborsClassifier\n",
    "from sklearn.tree import DecisionTreeClassifier\n",
    "from sklearn.svm import SVC\n",
    "from sklearn.ensemble import RandomForestClassifier\n",
    "\n",
    "classificadores = {\n",
    "    'NB'  : GaussianNB(),\n",
    "    'KNN' : KNeighborsClassifier(n_neighbors=5),\n",
    "    'SVM' : SVC(),\n",
    "    'DT'  : DecisionTreeClassifier(),\n",
    "    'RF'  : RandomForestClassifier()\n",
    "}"
   ]
  },
  {
   "cell_type": "markdown",
   "metadata": {},
   "source": [
    "## Treinar classificadores"
   ]
  },
  {
   "cell_type": "code",
   "execution_count": 5,
   "metadata": {},
   "outputs": [
    {
     "data": {
      "application/vnd.jupyter.widget-view+json": {
       "model_id": "1a194433fc8b41de911a46a67dd4c4d6",
       "version_major": 2,
       "version_minor": 0
      }
     },
     "metadata": {},
     "output_type": "display_data"
    }
   ],
   "source": [
    "import pandas as pd\n",
    "data_results = pd.DataFrame()\n",
    "data_results['algoritmos'] = classificadores.keys()\n",
    "data_results.head()"
   ]
  },
  {
   "cell_type": "code",
   "execution_count": 6,
   "metadata": {},
   "outputs": [
    {
     "data": {
      "application/vnd.jupyter.widget-view+json": {
       "model_id": "7060a2ed8cba450488a4b2cb459e05f9",
       "version_major": 2,
       "version_minor": 0
      }
     },
     "metadata": {},
     "output_type": "display_data"
    }
   ],
   "source": [
    "import time \n",
    "\n",
    "tempo_treinamento = []\n",
    "\n",
    "for clf in classificadores.keys():\n",
    "    \n",
    "    start_time = time.process_time()\n",
    "    classificadores[clf].fit(x_treino,y_treino)\n",
    "    tempo_treinamento.append(time.process_time() - start_time)\n",
    "\n",
    "data_results['tempo_treinamento'] = tempo_treinamento\n",
    "data_results.head() "
   ]
  },
  {
   "cell_type": "markdown",
   "metadata": {},
   "source": [
    "## Avaliação"
   ]
  },
  {
   "cell_type": "markdown",
   "metadata": {},
   "source": []
  },
  {
   "cell_type": "code",
   "execution_count": 7,
   "metadata": {},
   "outputs": [
    {
     "data": {
      "application/vnd.jupyter.widget-view+json": {
       "model_id": "cf7ead5d0c54459b9847e13434b86eaa",
       "version_major": 2,
       "version_minor": 0
      }
     },
     "metadata": {},
     "output_type": "display_data"
    }
   ],
   "source": [
    "from sklearn.metrics import accuracy_score, precision_score, recall_score\n",
    "acc_list  = []\n",
    "prec_list = []\n",
    "rec_list  = []\n",
    "time_list = []\n",
    "\n",
    "for clf in classificadores.keys():\n",
    "    \n",
    "    start_time = time.process_time()\n",
    "    predicoes = classificadores[clf].predict(x_teste)\n",
    "    time_list.append(time.process_time() - start_time)\n",
    "    \n",
    "    acc_list.append(accuracy_score(y_teste,predicoes))\n",
    "    prec_list.append(precision_score(y_teste,predicoes,average='macro'))\n",
    "    rec_list.append(recall_score(y_teste,predicoes,average='macro'))\n",
    "\n",
    "data_results['accuracy']        = acc_list\n",
    "data_results['precision']       = prec_list\n",
    "data_results['recall']          = rec_list\n",
    "data_results['tempo_predicoes'] = time_list\n",
    "data_results.head()\n",
    "    \n",
    "    "
   ]
  },
  {
   "cell_type": "markdown",
   "metadata": {},
   "source": [
    "## Comparar"
   ]
  },
  {
   "cell_type": "code",
   "execution_count": 23,
   "metadata": {},
   "outputs": [
    {
     "data": {
      "text/plain": [
       "<AxesSubplot:xlabel='recall', ylabel='algoritmos'>"
      ]
     },
     "execution_count": 23,
     "metadata": {},
     "output_type": "execute_result"
    },
    {
     "data": {
      "image/png": "[encoded data removed]",
      "text/plain": [
       "<Figure size 1440x360 with 3 Axes>"
      ]
     },
     "metadata": {},
     "output_type": "display_data"
    }
   ],
   "source": [
    "import matplotlib.pyplot as plt\n",
    "import seaborn as sns\n",
    "\n",
    "fig, ax = plt.subplots(nrows=1,ncols=3,figsize=(20,5))\n",
    "\n",
    "sns.barplot(y='algoritmos', x='accuracy', data=data_results, ax=ax[0],ec='k',orient='h')\n",
    "sns.barplot(y='algoritmos', x='precision', data=data_results, ax=ax[1],ec='k',orient='h')\n",
    "sns.barplot(y='algoritmos', x='recall', data=data_results, ax=ax[2],ec='k',orient='h')"
   ]
  },
  {
   "cell_type": "markdown",
   "metadata": {},
   "source": [
    "### Matriz de confusao"
   ]
  },
  {
   "cell_type": "code",
   "execution_count": 24,
   "metadata": {},
   "outputs": [
    {
     "data": {
      "image/png": "[encoded data removed]",
      "text/plain": [
       "<Figure size 1080x360 with 5 Axes>"
      ]
     },
     "metadata": {},
     "output_type": "display_data"
    }
   ],
   "source": [
    "from sklearn.metrics import ConfusionMatrixDisplay, confusion_matrix\n",
    "import matplotlib.pyplot as plt\n",
    "\n",
    "fig, ax = plt.subplots(nrows=1, ncols=5, figsize=(15,5))\n",
    "\n",
    "for idx,clf in enumerate(classificadores.keys()):\n",
    "    cf_matrix = confusion_matrix(classificadores[clf].predict(x_teste), y_teste)\n",
    "    disp      = ConfusionMatrixDisplay(cf_matrix)\n",
    "    disp.plot(ax=ax[idx],colorbar=False)\n",
    "    ax[idx].set_title(f\"Matriz de Confusão: {clf}\")"
   ]
  },
  {
   "cell_type": "code",
   "execution_count": 25,
   "metadata": {},
   "outputs": [
    {
     "name": "stdout",
     "output_type": "stream",
     "text": [
      "Classification Report: \n",
      "               precision    recall  f1-score   support\n",
      "\n",
      "           0       0.73      0.52      0.61        21\n",
      "           1       0.83      0.92      0.88        53\n",
      "\n",
      "    accuracy                           0.81        74\n",
      "   macro avg       0.78      0.72      0.74        74\n",
      "weighted avg       0.80      0.81      0.80        74\n",
      "\n"
     ]
    }
   ],
   "source": [
    "from sklearn.metrics import classification_report\n",
    "print(\"Classification Report: \\n\", classification_report(y_teste,predicoes,zero_division=0))"
   ]
  }
 ],
 "metadata": {
  "kernelspec": {
   "display_name": "Python 3",
   "language": "python",
   "name": "python3"
  },
  "language_info": {
   "codemirror_mode": {
    "name": "ipython",
    "version": 3
   },
   "file_extension": ".py",
   "mimetype": "text/x-python",
   "name": "python",
   "nbconvert_exporter": "python",
   "pygments_lexer": "ipython3",
   "version": "3.6.5"
  },
  "toc": {
   "base_numbering": 1,
   "nav_menu": {},
   "number_sections": false,
   "sideBar": false,
   "skip_h1_title": false,
   "title_cell": "Table of Contents",
   "title_sidebar": "Contents",
   "toc_cell": false,
   "toc_position": {},
   "toc_section_display": false,
   "toc_window_display": false
  }
 },
 "nbformat": 4,
 "nbformat_minor": 2
}
